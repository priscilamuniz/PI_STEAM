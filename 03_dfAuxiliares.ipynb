{
 "cells": [
  {
   "cell_type": "markdown",
   "metadata": {},
   "source": [
    "### Preparacion de dataframes auxiliares para los endpoints"
   ]
  },
  {
   "cell_type": "markdown",
   "metadata": {},
   "source": [
    "En este notebook, estaremos preparando dataframes auxiliares que contienen únicamente información correspondiente a la consulta en particular, y a su vez estaremos desarrollando y probando las funciones que serán los endpoints en la API."
   ]
  },
  {
   "cell_type": "markdown",
   "metadata": {},
   "source": [
    "#### Importamos las librerias a utilizar"
   ]
  },
  {
   "cell_type": "code",
   "execution_count": 3,
   "metadata": {},
   "outputs": [],
   "source": [
    "import pandas as pd\n",
    "import numpy as np\n",
    "import seaborn as sns\n",
    "import matplotlib.pyplot as plt\n",
    "import warnings\n",
    "import Tools as t\n",
    "import pyarrow.parquet as pq\n",
    "warnings.filterwarnings(\"ignore\")"
   ]
  },
  {
   "cell_type": "markdown",
   "metadata": {},
   "source": [
    "Cargamos los datasets que ya previamente limpiados"
   ]
  },
  {
   "cell_type": "code",
   "execution_count": 4,
   "metadata": {},
   "outputs": [],
   "source": [
    "games = pd.read_csv('data_ok/games_cleaned.csv', encoding='utf-8')\n",
    "items = pd.read_csv('data_ok/users_items_cleaned.csv', encoding='utf-8')\n",
    "reviews = pd.read_csv('data_ok/users_reviews_cleaned.csv', encoding='utf-8')"
   ]
  },
  {
   "cell_type": "markdown",
   "metadata": {},
   "source": [
    " <h2 align=center> ______________________________________________________________________<h2>"
   ]
  },
  {
   "cell_type": "markdown",
   "metadata": {},
   "source": [
    "#### PlayTimeGenre. Preparamos el dataframe para la función "
   ]
  },
  {
   "cell_type": "markdown",
   "metadata": {},
   "source": [
    "##### Procesamiento"
   ]
  },
  {
   "cell_type": "markdown",
   "metadata": {},
   "source": [
    "Unimos los dataframes que contienen los campos necesarios para realizar la consulta"
   ]
  },
  {
   "cell_type": "code",
   "execution_count": 5,
   "metadata": {},
   "outputs": [
    {
     "data": {
      "text/html": [
       "<div>\n",
       "<style scoped>\n",
       "    .dataframe tbody tr th:only-of-type {\n",
       "        vertical-align: middle;\n",
       "    }\n",
       "\n",
       "    .dataframe tbody tr th {\n",
       "        vertical-align: top;\n",
       "    }\n",
       "\n",
       "    .dataframe thead th {\n",
       "        text-align: right;\n",
       "    }\n",
       "</style>\n",
       "<table border=\"1\" class=\"dataframe\">\n",
       "  <thead>\n",
       "    <tr style=\"text-align: right;\">\n",
       "      <th></th>\n",
       "      <th>item_id</th>\n",
       "      <th>playtime_forever</th>\n",
       "      <th>genres</th>\n",
       "      <th>released_year</th>\n",
       "    </tr>\n",
       "  </thead>\n",
       "  <tbody>\n",
       "    <tr>\n",
       "      <th>0</th>\n",
       "      <td>10</td>\n",
       "      <td>6.0</td>\n",
       "      <td>Action</td>\n",
       "      <td>2000.0</td>\n",
       "    </tr>\n",
       "    <tr>\n",
       "      <th>1</th>\n",
       "      <td>20</td>\n",
       "      <td>0.0</td>\n",
       "      <td>Action</td>\n",
       "      <td>1999.0</td>\n",
       "    </tr>\n",
       "    <tr>\n",
       "      <th>2</th>\n",
       "      <td>30</td>\n",
       "      <td>7.0</td>\n",
       "      <td>Action</td>\n",
       "      <td>2003.0</td>\n",
       "    </tr>\n",
       "    <tr>\n",
       "      <th>3</th>\n",
       "      <td>40</td>\n",
       "      <td>0.0</td>\n",
       "      <td>Action</td>\n",
       "      <td>2001.0</td>\n",
       "    </tr>\n",
       "    <tr>\n",
       "      <th>4</th>\n",
       "      <td>50</td>\n",
       "      <td>0.0</td>\n",
       "      <td>Action</td>\n",
       "      <td>1999.0</td>\n",
       "    </tr>\n",
       "    <tr>\n",
       "      <th>...</th>\n",
       "      <td>...</td>\n",
       "      <td>...</td>\n",
       "      <td>...</td>\n",
       "      <td>...</td>\n",
       "    </tr>\n",
       "    <tr>\n",
       "      <th>10920786</th>\n",
       "      <td>388490</td>\n",
       "      <td>3.0</td>\n",
       "      <td>Free to Play</td>\n",
       "      <td>2015.0</td>\n",
       "    </tr>\n",
       "    <tr>\n",
       "      <th>10920787</th>\n",
       "      <td>521570</td>\n",
       "      <td>4.0</td>\n",
       "      <td>Casual</td>\n",
       "      <td>2016.0</td>\n",
       "    </tr>\n",
       "    <tr>\n",
       "      <th>10920788</th>\n",
       "      <td>521570</td>\n",
       "      <td>4.0</td>\n",
       "      <td>Free to Play</td>\n",
       "      <td>2016.0</td>\n",
       "    </tr>\n",
       "    <tr>\n",
       "      <th>10920789</th>\n",
       "      <td>521570</td>\n",
       "      <td>4.0</td>\n",
       "      <td>Indie</td>\n",
       "      <td>2016.0</td>\n",
       "    </tr>\n",
       "    <tr>\n",
       "      <th>10920790</th>\n",
       "      <td>519140</td>\n",
       "      <td>3.0</td>\n",
       "      <td>NaN</td>\n",
       "      <td>NaN</td>\n",
       "    </tr>\n",
       "  </tbody>\n",
       "</table>\n",
       "<p>10920791 rows × 4 columns</p>\n",
       "</div>"
      ],
      "text/plain": [
       "          item_id  playtime_forever        genres  released_year\n",
       "0              10               6.0        Action         2000.0\n",
       "1              20               0.0        Action         1999.0\n",
       "2              30               7.0        Action         2003.0\n",
       "3              40               0.0        Action         2001.0\n",
       "4              50               0.0        Action         1999.0\n",
       "...           ...               ...           ...            ...\n",
       "10920786   388490               3.0  Free to Play         2015.0\n",
       "10920787   521570               4.0        Casual         2016.0\n",
       "10920788   521570               4.0  Free to Play         2016.0\n",
       "10920789   521570               4.0         Indie         2016.0\n",
       "10920790   519140               3.0           NaN            NaN\n",
       "\n",
       "[10920791 rows x 4 columns]"
      ]
     },
     "execution_count": 5,
     "metadata": {},
     "output_type": "execute_result"
    }
   ],
   "source": [
    "df_PlayTimeGenre = pd.merge(items, games, on = 'item_id', how= 'left')  \n",
    "eliminar = ['item_name','user_id','items_count','steam_id','app_name', 'developer']\n",
    "df_PlayTimeGenre = df_PlayTimeGenre.drop(columns=eliminar)\n",
    "df_PlayTimeGenre"
   ]
  },
  {
   "cell_type": "markdown",
   "metadata": {},
   "source": [
    "Revisamos los nulos, de ser necesario, los eliminamos"
   ]
  },
  {
   "cell_type": "code",
   "execution_count": 6,
   "metadata": {},
   "outputs": [
    {
     "data": {
      "text/html": [
       "<div>\n",
       "<style scoped>\n",
       "    .dataframe tbody tr th:only-of-type {\n",
       "        vertical-align: middle;\n",
       "    }\n",
       "\n",
       "    .dataframe tbody tr th {\n",
       "        vertical-align: top;\n",
       "    }\n",
       "\n",
       "    .dataframe thead th {\n",
       "        text-align: right;\n",
       "    }\n",
       "</style>\n",
       "<table border=\"1\" class=\"dataframe\">\n",
       "  <thead>\n",
       "    <tr style=\"text-align: right;\">\n",
       "      <th></th>\n",
       "      <th>%_valores_nulos</th>\n",
       "      <th>Cantidad_Nulos</th>\n",
       "      <th>Cantidad_NO_Nulos</th>\n",
       "      <th>Total_Registros</th>\n",
       "    </tr>\n",
       "  </thead>\n",
       "  <tbody>\n",
       "    <tr>\n",
       "      <th>item_id</th>\n",
       "      <td>0.00</td>\n",
       "      <td>0</td>\n",
       "      <td>10920791</td>\n",
       "      <td>10920791</td>\n",
       "    </tr>\n",
       "    <tr>\n",
       "      <th>playtime_forever</th>\n",
       "      <td>0.00</td>\n",
       "      <td>0</td>\n",
       "      <td>10920791</td>\n",
       "      <td>10920791</td>\n",
       "    </tr>\n",
       "    <tr>\n",
       "      <th>genres</th>\n",
       "      <td>8.89</td>\n",
       "      <td>970926</td>\n",
       "      <td>9949865</td>\n",
       "      <td>10920791</td>\n",
       "    </tr>\n",
       "    <tr>\n",
       "      <th>released_year</th>\n",
       "      <td>8.84</td>\n",
       "      <td>965111</td>\n",
       "      <td>9955680</td>\n",
       "      <td>10920791</td>\n",
       "    </tr>\n",
       "  </tbody>\n",
       "</table>\n",
       "</div>"
      ],
      "text/plain": [
       "                  %_valores_nulos  Cantidad_Nulos  Cantidad_NO_Nulos  \\\n",
       "item_id                      0.00               0           10920791   \n",
       "playtime_forever             0.00               0           10920791   \n",
       "genres                       8.89          970926            9949865   \n",
       "released_year                8.84          965111            9955680   \n",
       "\n",
       "                  Total_Registros  \n",
       "item_id                  10920791  \n",
       "playtime_forever         10920791  \n",
       "genres                   10920791  \n",
       "released_year            10920791  "
      ]
     },
     "execution_count": 6,
     "metadata": {},
     "output_type": "execute_result"
    }
   ],
   "source": [
    "nulos = t.PorcentajeNulos(df_PlayTimeGenre)\n",
    "nulos"
   ]
  },
  {
   "cell_type": "code",
   "execution_count": 7,
   "metadata": {},
   "outputs": [
    {
     "data": {
      "text/html": [
       "<div>\n",
       "<style scoped>\n",
       "    .dataframe tbody tr th:only-of-type {\n",
       "        vertical-align: middle;\n",
       "    }\n",
       "\n",
       "    .dataframe tbody tr th {\n",
       "        vertical-align: top;\n",
       "    }\n",
       "\n",
       "    .dataframe thead th {\n",
       "        text-align: right;\n",
       "    }\n",
       "</style>\n",
       "<table border=\"1\" class=\"dataframe\">\n",
       "  <thead>\n",
       "    <tr style=\"text-align: right;\">\n",
       "      <th></th>\n",
       "      <th>item_id</th>\n",
       "      <th>playtime_forever</th>\n",
       "      <th>genres</th>\n",
       "      <th>released_year</th>\n",
       "    </tr>\n",
       "  </thead>\n",
       "  <tbody>\n",
       "    <tr>\n",
       "      <th>0</th>\n",
       "      <td>10</td>\n",
       "      <td>6.0</td>\n",
       "      <td>Action</td>\n",
       "      <td>2000.0</td>\n",
       "    </tr>\n",
       "    <tr>\n",
       "      <th>1</th>\n",
       "      <td>20</td>\n",
       "      <td>0.0</td>\n",
       "      <td>Action</td>\n",
       "      <td>1999.0</td>\n",
       "    </tr>\n",
       "    <tr>\n",
       "      <th>2</th>\n",
       "      <td>30</td>\n",
       "      <td>7.0</td>\n",
       "      <td>Action</td>\n",
       "      <td>2003.0</td>\n",
       "    </tr>\n",
       "    <tr>\n",
       "      <th>3</th>\n",
       "      <td>40</td>\n",
       "      <td>0.0</td>\n",
       "      <td>Action</td>\n",
       "      <td>2001.0</td>\n",
       "    </tr>\n",
       "    <tr>\n",
       "      <th>4</th>\n",
       "      <td>50</td>\n",
       "      <td>0.0</td>\n",
       "      <td>Action</td>\n",
       "      <td>1999.0</td>\n",
       "    </tr>\n",
       "    <tr>\n",
       "      <th>...</th>\n",
       "      <td>...</td>\n",
       "      <td>...</td>\n",
       "      <td>...</td>\n",
       "      <td>...</td>\n",
       "    </tr>\n",
       "    <tr>\n",
       "      <th>10920785</th>\n",
       "      <td>388490</td>\n",
       "      <td>3.0</td>\n",
       "      <td>Adventure</td>\n",
       "      <td>2015.0</td>\n",
       "    </tr>\n",
       "    <tr>\n",
       "      <th>10920786</th>\n",
       "      <td>388490</td>\n",
       "      <td>3.0</td>\n",
       "      <td>Free to Play</td>\n",
       "      <td>2015.0</td>\n",
       "    </tr>\n",
       "    <tr>\n",
       "      <th>10920787</th>\n",
       "      <td>521570</td>\n",
       "      <td>4.0</td>\n",
       "      <td>Casual</td>\n",
       "      <td>2016.0</td>\n",
       "    </tr>\n",
       "    <tr>\n",
       "      <th>10920788</th>\n",
       "      <td>521570</td>\n",
       "      <td>4.0</td>\n",
       "      <td>Free to Play</td>\n",
       "      <td>2016.0</td>\n",
       "    </tr>\n",
       "    <tr>\n",
       "      <th>10920789</th>\n",
       "      <td>521570</td>\n",
       "      <td>4.0</td>\n",
       "      <td>Indie</td>\n",
       "      <td>2016.0</td>\n",
       "    </tr>\n",
       "  </tbody>\n",
       "</table>\n",
       "<p>9949865 rows × 4 columns</p>\n",
       "</div>"
      ],
      "text/plain": [
       "          item_id  playtime_forever        genres  released_year\n",
       "0              10               6.0        Action         2000.0\n",
       "1              20               0.0        Action         1999.0\n",
       "2              30               7.0        Action         2003.0\n",
       "3              40               0.0        Action         2001.0\n",
       "4              50               0.0        Action         1999.0\n",
       "...           ...               ...           ...            ...\n",
       "10920785   388490               3.0     Adventure         2015.0\n",
       "10920786   388490               3.0  Free to Play         2015.0\n",
       "10920787   521570               4.0        Casual         2016.0\n",
       "10920788   521570               4.0  Free to Play         2016.0\n",
       "10920789   521570               4.0         Indie         2016.0\n",
       "\n",
       "[9949865 rows x 4 columns]"
      ]
     },
     "execution_count": 7,
     "metadata": {},
     "output_type": "execute_result"
    }
   ],
   "source": [
    "df_PlayTimeGenre.dropna()"
   ]
  },
  {
   "cell_type": "markdown",
   "metadata": {},
   "source": [
    "Buscamos los registros con playtiem_forever == 0, quiere decir que no jugaron nunca y procedemos a eliminarlos"
   ]
  },
  {
   "cell_type": "code",
   "execution_count": 8,
   "metadata": {},
   "outputs": [
    {
     "data": {
      "text/html": [
       "<div>\n",
       "<style scoped>\n",
       "    .dataframe tbody tr th:only-of-type {\n",
       "        vertical-align: middle;\n",
       "    }\n",
       "\n",
       "    .dataframe tbody tr th {\n",
       "        vertical-align: top;\n",
       "    }\n",
       "\n",
       "    .dataframe thead th {\n",
       "        text-align: right;\n",
       "    }\n",
       "</style>\n",
       "<table border=\"1\" class=\"dataframe\">\n",
       "  <thead>\n",
       "    <tr style=\"text-align: right;\">\n",
       "      <th></th>\n",
       "      <th>item_id</th>\n",
       "      <th>playtime_forever</th>\n",
       "      <th>genres</th>\n",
       "      <th>released_year</th>\n",
       "    </tr>\n",
       "  </thead>\n",
       "  <tbody>\n",
       "    <tr>\n",
       "      <th>0</th>\n",
       "      <td>10</td>\n",
       "      <td>6.0</td>\n",
       "      <td>Action</td>\n",
       "      <td>2000.0</td>\n",
       "    </tr>\n",
       "    <tr>\n",
       "      <th>2</th>\n",
       "      <td>30</td>\n",
       "      <td>7.0</td>\n",
       "      <td>Action</td>\n",
       "      <td>2003.0</td>\n",
       "    </tr>\n",
       "    <tr>\n",
       "      <th>8</th>\n",
       "      <td>300</td>\n",
       "      <td>4733.0</td>\n",
       "      <td>Action</td>\n",
       "      <td>2010.0</td>\n",
       "    </tr>\n",
       "    <tr>\n",
       "      <th>9</th>\n",
       "      <td>240</td>\n",
       "      <td>1853.0</td>\n",
       "      <td>Action</td>\n",
       "      <td>2004.0</td>\n",
       "    </tr>\n",
       "    <tr>\n",
       "      <th>10</th>\n",
       "      <td>3830</td>\n",
       "      <td>333.0</td>\n",
       "      <td>Action</td>\n",
       "      <td>2005.0</td>\n",
       "    </tr>\n",
       "    <tr>\n",
       "      <th>...</th>\n",
       "      <td>...</td>\n",
       "      <td>...</td>\n",
       "      <td>...</td>\n",
       "      <td>...</td>\n",
       "    </tr>\n",
       "    <tr>\n",
       "      <th>10920786</th>\n",
       "      <td>388490</td>\n",
       "      <td>3.0</td>\n",
       "      <td>Free to Play</td>\n",
       "      <td>2015.0</td>\n",
       "    </tr>\n",
       "    <tr>\n",
       "      <th>10920787</th>\n",
       "      <td>521570</td>\n",
       "      <td>4.0</td>\n",
       "      <td>Casual</td>\n",
       "      <td>2016.0</td>\n",
       "    </tr>\n",
       "    <tr>\n",
       "      <th>10920788</th>\n",
       "      <td>521570</td>\n",
       "      <td>4.0</td>\n",
       "      <td>Free to Play</td>\n",
       "      <td>2016.0</td>\n",
       "    </tr>\n",
       "    <tr>\n",
       "      <th>10920789</th>\n",
       "      <td>521570</td>\n",
       "      <td>4.0</td>\n",
       "      <td>Indie</td>\n",
       "      <td>2016.0</td>\n",
       "    </tr>\n",
       "    <tr>\n",
       "      <th>10920790</th>\n",
       "      <td>519140</td>\n",
       "      <td>3.0</td>\n",
       "      <td>NaN</td>\n",
       "      <td>NaN</td>\n",
       "    </tr>\n",
       "  </tbody>\n",
       "</table>\n",
       "<p>7399876 rows × 4 columns</p>\n",
       "</div>"
      ],
      "text/plain": [
       "          item_id  playtime_forever        genres  released_year\n",
       "0              10               6.0        Action         2000.0\n",
       "2              30               7.0        Action         2003.0\n",
       "8             300            4733.0        Action         2010.0\n",
       "9             240            1853.0        Action         2004.0\n",
       "10           3830             333.0        Action         2005.0\n",
       "...           ...               ...           ...            ...\n",
       "10920786   388490               3.0  Free to Play         2015.0\n",
       "10920787   521570               4.0        Casual         2016.0\n",
       "10920788   521570               4.0  Free to Play         2016.0\n",
       "10920789   521570               4.0         Indie         2016.0\n",
       "10920790   519140               3.0           NaN            NaN\n",
       "\n",
       "[7399876 rows x 4 columns]"
      ]
     },
     "execution_count": 8,
     "metadata": {},
     "output_type": "execute_result"
    }
   ],
   "source": [
    "df_PlayTimeGenre = df_PlayTimeGenre.loc[df_PlayTimeGenre['playtime_forever'] != 0]      \n",
    "df_PlayTimeGenre "
   ]
  },
  {
   "cell_type": "markdown",
   "metadata": {},
   "source": [
    "Agrupamos por géneros y por años, y calculamos el total de horas jugadas"
   ]
  },
  {
   "cell_type": "code",
   "execution_count": 9,
   "metadata": {},
   "outputs": [
    {
     "data": {
      "text/html": [
       "<div>\n",
       "<style scoped>\n",
       "    .dataframe tbody tr th:only-of-type {\n",
       "        vertical-align: middle;\n",
       "    }\n",
       "\n",
       "    .dataframe tbody tr th {\n",
       "        vertical-align: top;\n",
       "    }\n",
       "\n",
       "    .dataframe thead th {\n",
       "        text-align: right;\n",
       "    }\n",
       "</style>\n",
       "<table border=\"1\" class=\"dataframe\">\n",
       "  <thead>\n",
       "    <tr style=\"text-align: right;\">\n",
       "      <th></th>\n",
       "      <th>genres</th>\n",
       "      <th>released_year</th>\n",
       "      <th>Total_horas_jugadas</th>\n",
       "    </tr>\n",
       "  </thead>\n",
       "  <tbody>\n",
       "    <tr>\n",
       "      <th>0</th>\n",
       "      <td>Action</td>\n",
       "      <td>1983.0</td>\n",
       "      <td>3582.0</td>\n",
       "    </tr>\n",
       "    <tr>\n",
       "      <th>1</th>\n",
       "      <td>Action</td>\n",
       "      <td>1984.0</td>\n",
       "      <td>384.0</td>\n",
       "    </tr>\n",
       "    <tr>\n",
       "      <th>2</th>\n",
       "      <td>Action</td>\n",
       "      <td>1988.0</td>\n",
       "      <td>16243.0</td>\n",
       "    </tr>\n",
       "    <tr>\n",
       "      <th>3</th>\n",
       "      <td>Action</td>\n",
       "      <td>1989.0</td>\n",
       "      <td>607.0</td>\n",
       "    </tr>\n",
       "    <tr>\n",
       "      <th>4</th>\n",
       "      <td>Action</td>\n",
       "      <td>1990.0</td>\n",
       "      <td>18787.0</td>\n",
       "    </tr>\n",
       "  </tbody>\n",
       "</table>\n",
       "</div>"
      ],
      "text/plain": [
       "   genres  released_year  Total_horas_jugadas\n",
       "0  Action         1983.0               3582.0\n",
       "1  Action         1984.0                384.0\n",
       "2  Action         1988.0              16243.0\n",
       "3  Action         1989.0                607.0\n",
       "4  Action         1990.0              18787.0"
      ]
     },
     "execution_count": 9,
     "metadata": {},
     "output_type": "execute_result"
    }
   ],
   "source": [
    "df_PlayTimeGenre = df_PlayTimeGenre.groupby([ 'genres', 'released_year'])['playtime_forever'].sum().reset_index()               # Hacemos un dataframe con las columnas necesarias ya argupadas, y suma el total de horas jugadas\n",
    "df_PlayTimeGenre.rename(columns= {'playtime_forever':'Total_horas_jugadas'}, inplace = True)                                    # Renombramos las columnas\n",
    "df_PlayTimeGenre.head()\n"
   ]
  },
  {
   "cell_type": "markdown",
   "metadata": {},
   "source": [
    "Guardamos el dataframe en un parquet, esto para minimizar el peso del archivo y facilitar la consulta del API"
   ]
  },
  {
   "cell_type": "code",
   "execution_count": 11,
   "metadata": {},
   "outputs": [],
   "source": [
    "df_PlayTimeGenre.to_parquet('datos_parquet/df_PlayTimeGenre.parquet')"
   ]
  },
  {
   "cell_type": "markdown",
   "metadata": {},
   "source": [
    "##### Función"
   ]
  },
  {
   "cell_type": "code",
   "execution_count": 12,
   "metadata": {},
   "outputs": [],
   "source": [
    "def PlayTimeGenre(df, genero:str):\n",
    "\n",
    "    mascara = (df['genres'] == genero)                                                                                         # Filtramos el dataframe para que solo sean de el género de la consulta\n",
    "    df_PlayTimeGenre_sorted = df[mascara].sort_values(by='Total_horas_jugadas', ascending=False).head(1)                       # Acomodamos el df en orden descendente en relacion a Total horas jugadas\n",
    "\n",
    "    year = df_PlayTimeGenre_sorted['released_year'].values[0]                                                                  # Sacamos el año del género con más horas jugadas\n",
    "\n",
    "    resultado = {f'Año de lanzamiento con más horas jugadas para el género {genero}': year}\n",
    "    return resultado"
   ]
  },
  {
   "cell_type": "markdown",
   "metadata": {},
   "source": [
    "Probamos la función"
   ]
  },
  {
   "cell_type": "code",
   "execution_count": 13,
   "metadata": {},
   "outputs": [
    {
     "name": "stdout",
     "output_type": "stream",
     "text": [
      "{'Año de lanzamiento con más horas jugadas para el género Action': 2012.0}\n"
     ]
    }
   ],
   "source": [
    "prueba = PlayTimeGenre(df_PlayTimeGenre,'Action')\n",
    "print(prueba)"
   ]
  },
  {
   "cell_type": "markdown",
   "metadata": {},
   "source": [
    " <h2 align=center> ______________________________________________________________________<h2>"
   ]
  },
  {
   "cell_type": "markdown",
   "metadata": {},
   "source": [
    "#### UserForGenre. "
   ]
  },
  {
   "cell_type": "markdown",
   "metadata": {},
   "source": [
    "##### Procesamiento"
   ]
  },
  {
   "cell_type": "markdown",
   "metadata": {},
   "source": [
    "Unimos los dataframes que contienen los campos necesarios para realizar la consulta"
   ]
  },
  {
   "cell_type": "code",
   "execution_count": 14,
   "metadata": {},
   "outputs": [
    {
     "data": {
      "text/html": [
       "<div>\n",
       "<style scoped>\n",
       "    .dataframe tbody tr th:only-of-type {\n",
       "        vertical-align: middle;\n",
       "    }\n",
       "\n",
       "    .dataframe tbody tr th {\n",
       "        vertical-align: top;\n",
       "    }\n",
       "\n",
       "    .dataframe thead th {\n",
       "        text-align: right;\n",
       "    }\n",
       "</style>\n",
       "<table border=\"1\" class=\"dataframe\">\n",
       "  <thead>\n",
       "    <tr style=\"text-align: right;\">\n",
       "      <th></th>\n",
       "      <th>playtime_forever</th>\n",
       "      <th>user_id</th>\n",
       "      <th>genres</th>\n",
       "      <th>released_year</th>\n",
       "    </tr>\n",
       "  </thead>\n",
       "  <tbody>\n",
       "    <tr>\n",
       "      <th>0</th>\n",
       "      <td>6.0</td>\n",
       "      <td>76561197970982479</td>\n",
       "      <td>Action</td>\n",
       "      <td>2000.0</td>\n",
       "    </tr>\n",
       "    <tr>\n",
       "      <th>1</th>\n",
       "      <td>0.0</td>\n",
       "      <td>76561197970982479</td>\n",
       "      <td>Action</td>\n",
       "      <td>1999.0</td>\n",
       "    </tr>\n",
       "    <tr>\n",
       "      <th>2</th>\n",
       "      <td>7.0</td>\n",
       "      <td>76561197970982479</td>\n",
       "      <td>Action</td>\n",
       "      <td>2003.0</td>\n",
       "    </tr>\n",
       "    <tr>\n",
       "      <th>3</th>\n",
       "      <td>0.0</td>\n",
       "      <td>76561197970982479</td>\n",
       "      <td>Action</td>\n",
       "      <td>2001.0</td>\n",
       "    </tr>\n",
       "    <tr>\n",
       "      <th>4</th>\n",
       "      <td>0.0</td>\n",
       "      <td>76561197970982479</td>\n",
       "      <td>Action</td>\n",
       "      <td>1999.0</td>\n",
       "    </tr>\n",
       "    <tr>\n",
       "      <th>...</th>\n",
       "      <td>...</td>\n",
       "      <td>...</td>\n",
       "      <td>...</td>\n",
       "      <td>...</td>\n",
       "    </tr>\n",
       "    <tr>\n",
       "      <th>10920786</th>\n",
       "      <td>3.0</td>\n",
       "      <td>76561198329548331</td>\n",
       "      <td>Free to Play</td>\n",
       "      <td>2015.0</td>\n",
       "    </tr>\n",
       "    <tr>\n",
       "      <th>10920787</th>\n",
       "      <td>4.0</td>\n",
       "      <td>76561198329548331</td>\n",
       "      <td>Casual</td>\n",
       "      <td>2016.0</td>\n",
       "    </tr>\n",
       "    <tr>\n",
       "      <th>10920788</th>\n",
       "      <td>4.0</td>\n",
       "      <td>76561198329548331</td>\n",
       "      <td>Free to Play</td>\n",
       "      <td>2016.0</td>\n",
       "    </tr>\n",
       "    <tr>\n",
       "      <th>10920789</th>\n",
       "      <td>4.0</td>\n",
       "      <td>76561198329548331</td>\n",
       "      <td>Indie</td>\n",
       "      <td>2016.0</td>\n",
       "    </tr>\n",
       "    <tr>\n",
       "      <th>10920790</th>\n",
       "      <td>3.0</td>\n",
       "      <td>76561198329548331</td>\n",
       "      <td>NaN</td>\n",
       "      <td>NaN</td>\n",
       "    </tr>\n",
       "  </tbody>\n",
       "</table>\n",
       "<p>10920791 rows × 4 columns</p>\n",
       "</div>"
      ],
      "text/plain": [
       "          playtime_forever            user_id        genres  released_year\n",
       "0                      6.0  76561197970982479        Action         2000.0\n",
       "1                      0.0  76561197970982479        Action         1999.0\n",
       "2                      7.0  76561197970982479        Action         2003.0\n",
       "3                      0.0  76561197970982479        Action         2001.0\n",
       "4                      0.0  76561197970982479        Action         1999.0\n",
       "...                    ...                ...           ...            ...\n",
       "10920786               3.0  76561198329548331  Free to Play         2015.0\n",
       "10920787               4.0  76561198329548331        Casual         2016.0\n",
       "10920788               4.0  76561198329548331  Free to Play         2016.0\n",
       "10920789               4.0  76561198329548331         Indie         2016.0\n",
       "10920790               3.0  76561198329548331           NaN            NaN\n",
       "\n",
       "[10920791 rows x 4 columns]"
      ]
     },
     "execution_count": 14,
     "metadata": {},
     "output_type": "execute_result"
    }
   ],
   "source": [
    "df_UserForGenre = pd.merge(items, games, on = 'item_id', how= 'left')  \n",
    "eliminar = ['item_id', 'item_name','items_count','steam_id','app_name', 'developer']\n",
    "df_UserForGenre = df_UserForGenre.drop(columns=eliminar)\n",
    "\n",
    "df_UserForGenre"
   ]
  },
  {
   "cell_type": "markdown",
   "metadata": {},
   "source": [
    "Buscamos los registros con playtiem_forever == 0, quiere decir que no jugaron nunca y procedemos a eliminarlos"
   ]
  },
  {
   "cell_type": "code",
   "execution_count": 15,
   "metadata": {},
   "outputs": [
    {
     "data": {
      "text/html": [
       "<div>\n",
       "<style scoped>\n",
       "    .dataframe tbody tr th:only-of-type {\n",
       "        vertical-align: middle;\n",
       "    }\n",
       "\n",
       "    .dataframe tbody tr th {\n",
       "        vertical-align: top;\n",
       "    }\n",
       "\n",
       "    .dataframe thead th {\n",
       "        text-align: right;\n",
       "    }\n",
       "</style>\n",
       "<table border=\"1\" class=\"dataframe\">\n",
       "  <thead>\n",
       "    <tr style=\"text-align: right;\">\n",
       "      <th></th>\n",
       "      <th>playtime_forever</th>\n",
       "      <th>user_id</th>\n",
       "      <th>genres</th>\n",
       "      <th>released_year</th>\n",
       "    </tr>\n",
       "  </thead>\n",
       "  <tbody>\n",
       "    <tr>\n",
       "      <th>0</th>\n",
       "      <td>6.0</td>\n",
       "      <td>76561197970982479</td>\n",
       "      <td>Action</td>\n",
       "      <td>2000.0</td>\n",
       "    </tr>\n",
       "    <tr>\n",
       "      <th>2</th>\n",
       "      <td>7.0</td>\n",
       "      <td>76561197970982479</td>\n",
       "      <td>Action</td>\n",
       "      <td>2003.0</td>\n",
       "    </tr>\n",
       "    <tr>\n",
       "      <th>8</th>\n",
       "      <td>4733.0</td>\n",
       "      <td>76561197970982479</td>\n",
       "      <td>Action</td>\n",
       "      <td>2010.0</td>\n",
       "    </tr>\n",
       "    <tr>\n",
       "      <th>9</th>\n",
       "      <td>1853.0</td>\n",
       "      <td>76561197970982479</td>\n",
       "      <td>Action</td>\n",
       "      <td>2004.0</td>\n",
       "    </tr>\n",
       "    <tr>\n",
       "      <th>10</th>\n",
       "      <td>333.0</td>\n",
       "      <td>76561197970982479</td>\n",
       "      <td>Action</td>\n",
       "      <td>2005.0</td>\n",
       "    </tr>\n",
       "    <tr>\n",
       "      <th>...</th>\n",
       "      <td>...</td>\n",
       "      <td>...</td>\n",
       "      <td>...</td>\n",
       "      <td>...</td>\n",
       "    </tr>\n",
       "    <tr>\n",
       "      <th>10920786</th>\n",
       "      <td>3.0</td>\n",
       "      <td>76561198329548331</td>\n",
       "      <td>Free to Play</td>\n",
       "      <td>2015.0</td>\n",
       "    </tr>\n",
       "    <tr>\n",
       "      <th>10920787</th>\n",
       "      <td>4.0</td>\n",
       "      <td>76561198329548331</td>\n",
       "      <td>Casual</td>\n",
       "      <td>2016.0</td>\n",
       "    </tr>\n",
       "    <tr>\n",
       "      <th>10920788</th>\n",
       "      <td>4.0</td>\n",
       "      <td>76561198329548331</td>\n",
       "      <td>Free to Play</td>\n",
       "      <td>2016.0</td>\n",
       "    </tr>\n",
       "    <tr>\n",
       "      <th>10920789</th>\n",
       "      <td>4.0</td>\n",
       "      <td>76561198329548331</td>\n",
       "      <td>Indie</td>\n",
       "      <td>2016.0</td>\n",
       "    </tr>\n",
       "    <tr>\n",
       "      <th>10920790</th>\n",
       "      <td>3.0</td>\n",
       "      <td>76561198329548331</td>\n",
       "      <td>NaN</td>\n",
       "      <td>NaN</td>\n",
       "    </tr>\n",
       "  </tbody>\n",
       "</table>\n",
       "<p>7399876 rows × 4 columns</p>\n",
       "</div>"
      ],
      "text/plain": [
       "          playtime_forever            user_id        genres  released_year\n",
       "0                      6.0  76561197970982479        Action         2000.0\n",
       "2                      7.0  76561197970982479        Action         2003.0\n",
       "8                   4733.0  76561197970982479        Action         2010.0\n",
       "9                   1853.0  76561197970982479        Action         2004.0\n",
       "10                   333.0  76561197970982479        Action         2005.0\n",
       "...                    ...                ...           ...            ...\n",
       "10920786               3.0  76561198329548331  Free to Play         2015.0\n",
       "10920787               4.0  76561198329548331        Casual         2016.0\n",
       "10920788               4.0  76561198329548331  Free to Play         2016.0\n",
       "10920789               4.0  76561198329548331         Indie         2016.0\n",
       "10920790               3.0  76561198329548331           NaN            NaN\n",
       "\n",
       "[7399876 rows x 4 columns]"
      ]
     },
     "execution_count": 15,
     "metadata": {},
     "output_type": "execute_result"
    }
   ],
   "source": [
    "df_UserForGenre = df_UserForGenre.loc[df_UserForGenre['playtime_forever'] != 0]      \n",
    "df_UserForGenre                  "
   ]
  },
  {
   "cell_type": "markdown",
   "metadata": {},
   "source": [
    "Revisamos la cantidad de nulos que se generaron"
   ]
  },
  {
   "cell_type": "code",
   "execution_count": 16,
   "metadata": {},
   "outputs": [
    {
     "data": {
      "text/html": [
       "<div>\n",
       "<style scoped>\n",
       "    .dataframe tbody tr th:only-of-type {\n",
       "        vertical-align: middle;\n",
       "    }\n",
       "\n",
       "    .dataframe tbody tr th {\n",
       "        vertical-align: top;\n",
       "    }\n",
       "\n",
       "    .dataframe thead th {\n",
       "        text-align: right;\n",
       "    }\n",
       "</style>\n",
       "<table border=\"1\" class=\"dataframe\">\n",
       "  <thead>\n",
       "    <tr style=\"text-align: right;\">\n",
       "      <th></th>\n",
       "      <th>%_valores_nulos</th>\n",
       "      <th>Cantidad_Nulos</th>\n",
       "      <th>Cantidad_NO_Nulos</th>\n",
       "      <th>Total_Registros</th>\n",
       "    </tr>\n",
       "  </thead>\n",
       "  <tbody>\n",
       "    <tr>\n",
       "      <th>playtime_forever</th>\n",
       "      <td>0.00</td>\n",
       "      <td>0</td>\n",
       "      <td>7399876</td>\n",
       "      <td>7399876</td>\n",
       "    </tr>\n",
       "    <tr>\n",
       "      <th>user_id</th>\n",
       "      <td>0.00</td>\n",
       "      <td>0</td>\n",
       "      <td>7399876</td>\n",
       "      <td>7399876</td>\n",
       "    </tr>\n",
       "    <tr>\n",
       "      <th>genres</th>\n",
       "      <td>6.68</td>\n",
       "      <td>494161</td>\n",
       "      <td>6905715</td>\n",
       "      <td>7399876</td>\n",
       "    </tr>\n",
       "    <tr>\n",
       "      <th>released_year</th>\n",
       "      <td>6.64</td>\n",
       "      <td>491364</td>\n",
       "      <td>6908512</td>\n",
       "      <td>7399876</td>\n",
       "    </tr>\n",
       "  </tbody>\n",
       "</table>\n",
       "</div>"
      ],
      "text/plain": [
       "                  %_valores_nulos  Cantidad_Nulos  Cantidad_NO_Nulos  \\\n",
       "playtime_forever             0.00               0            7399876   \n",
       "user_id                      0.00               0            7399876   \n",
       "genres                       6.68          494161            6905715   \n",
       "released_year                6.64          491364            6908512   \n",
       "\n",
       "                  Total_Registros  \n",
       "playtime_forever          7399876  \n",
       "user_id                   7399876  \n",
       "genres                    7399876  \n",
       "released_year             7399876  "
      ]
     },
     "execution_count": 16,
     "metadata": {},
     "output_type": "execute_result"
    }
   ],
   "source": [
    "nulos =  t.PorcentajeNulos(df_UserForGenre)\n",
    "nulos"
   ]
  },
  {
   "cell_type": "markdown",
   "metadata": {},
   "source": [
    "Eliminamos los nulos"
   ]
  },
  {
   "cell_type": "code",
   "execution_count": 17,
   "metadata": {},
   "outputs": [],
   "source": [
    "df_UserForGenre1 = df_UserForGenre.dropna()"
   ]
  },
  {
   "cell_type": "markdown",
   "metadata": {},
   "source": [
    "Agrupamos por user_id, género y año el dataframe, para sumar el total de horas jugadas"
   ]
  },
  {
   "cell_type": "code",
   "execution_count": 18,
   "metadata": {},
   "outputs": [],
   "source": [
    "df_UserForGenre_group = df_UserForGenre1.groupby(['genres', 'user_id', 'released_year'])['playtime_forever'].sum().reset_index()                # Hacemos un dataframe con las columnas necesarias ya argupadas, y suma el total de horas jugadas\n",
    "df_UserForGenre_group.rename(columns= {'playtime_forever':'Total_horas_jugadas'}, inplace = True)                                               # Le cambiamos el nombre a la columna"
   ]
  },
  {
   "cell_type": "markdown",
   "metadata": {},
   "source": [
    "Almacenamos el dataframe en un archivo parquet"
   ]
  },
  {
   "cell_type": "code",
   "execution_count": 19,
   "metadata": {},
   "outputs": [],
   "source": [
    "df_UserForGenre_group.to_parquet('datos_parquet/df_UserForGenre.parquet')"
   ]
  },
  {
   "cell_type": "markdown",
   "metadata": {},
   "source": [
    "##### Función"
   ]
  },
  {
   "cell_type": "markdown",
   "metadata": {},
   "source": [
    "Ya con el dataframe listo, procedemos a realizar la función "
   ]
  },
  {
   "cell_type": "code",
   "execution_count": 20,
   "metadata": {},
   "outputs": [],
   "source": [
    "def UserForGenre(df, genero: str):                     \n",
    "    mascara = (df['genres'] == genero)\n",
    "    df_UserForGenre = df[mascara]\n",
    "\n",
    "    df_UserForGenre_sorted = df_UserForGenre.groupby('user_id')['Total_horas_jugadas'].sum().reset_index()                        # Obtenemos el usuario con más horas jugadas para el género\n",
    "    user_max_playtime = df_UserForGenre_sorted.sort_values(by='Total_horas_jugadas', ascending=False).iloc[0]['user_id']          # Acomodamos de mayor a menor el dataframe, y tomamos el primero\n",
    "\n",
    "    df_UserGenreUser = df_UserForGenre[df_UserForGenre['user_id'] == user_max_playtime]                                           # Filtramos los datos para ese usuario y género\n",
    "\n",
    "    df_UserGenreUserByYear = df_UserGenreUser.groupby('released_year')['Total_horas_jugadas'].sum().reset_index()                 # Obtenemos el total de horas jugadas por año para el usuario y género seleccionados\n",
    "\n",
    "    horas_por_anio = df_UserGenreUserByYear.to_dict(orient='records')                                                             # Creamos la lista de años y horas jugadas\n",
    "\n",
    "    return {f\"Usuario con más horas jugadas para Género {genero}\": user_max_playtime,\"Horas jugadas\": horas_por_anio}\n",
    "\n"
   ]
  },
  {
   "cell_type": "markdown",
   "metadata": {},
   "source": [
    "Probamos la función"
   ]
  },
  {
   "cell_type": "code",
   "execution_count": 21,
   "metadata": {},
   "outputs": [
    {
     "name": "stdout",
     "output_type": "stream",
     "text": [
      "{'Usuario con más horas jugadas para Género Action': 'Sp3ctre', 'Horas jugadas': [{'released_year': 1995.0, 'Total_horas_jugadas': 217.0}, {'released_year': 1999.0, 'Total_horas_jugadas': 44.0}, {'released_year': 2000.0, 'Total_horas_jugadas': 70644.0}, {'released_year': 2001.0, 'Total_horas_jugadas': 13.0}, {'released_year': 2002.0, 'Total_horas_jugadas': 238.0}, {'released_year': 2003.0, 'Total_horas_jugadas': 7673.0}, {'released_year': 2004.0, 'Total_horas_jugadas': 127411.0}, {'released_year': 2005.0, 'Total_horas_jugadas': 21339.0}, {'released_year': 2006.0, 'Total_horas_jugadas': 896.0}, {'released_year': 2007.0, 'Total_horas_jugadas': 112784.0}, {'released_year': 2008.0, 'Total_horas_jugadas': 224.0}, {'released_year': 2009.0, 'Total_horas_jugadas': 108326.0}, {'released_year': 2010.0, 'Total_horas_jugadas': 78083.0}, {'released_year': 2011.0, 'Total_horas_jugadas': 154896.0}, {'released_year': 2012.0, 'Total_horas_jugadas': 378296.0}, {'released_year': 2013.0, 'Total_horas_jugadas': 120461.0}, {'released_year': 2014.0, 'Total_horas_jugadas': 130452.0}, {'released_year': 2015.0, 'Total_horas_jugadas': 312511.0}, {'released_year': 2016.0, 'Total_horas_jugadas': 30955.0}, {'released_year': 2017.0, 'Total_horas_jugadas': 43327.0}]}\n"
     ]
    }
   ],
   "source": [
    "resultado = UserForGenre(df_UserForGenre_group, 'Action')\n",
    "print(resultado)"
   ]
  },
  {
   "cell_type": "markdown",
   "metadata": {},
   "source": [
    " <h2 align=center> ______________________________________________________________________<h2>"
   ]
  },
  {
   "cell_type": "markdown",
   "metadata": {},
   "source": [
    "#### UsersRecommend. "
   ]
  },
  {
   "cell_type": "markdown",
   "metadata": {},
   "source": [
    "##### Procesamiento"
   ]
  },
  {
   "cell_type": "markdown",
   "metadata": {},
   "source": [
    "Unimos los dataframes que contienen los campos necesarios para realizar la consulta"
   ]
  },
  {
   "cell_type": "code",
   "execution_count": 5,
   "metadata": {},
   "outputs": [
    {
     "data": {
      "text/html": [
       "<div>\n",
       "<style scoped>\n",
       "    .dataframe tbody tr th:only-of-type {\n",
       "        vertical-align: middle;\n",
       "    }\n",
       "\n",
       "    .dataframe tbody tr th {\n",
       "        vertical-align: top;\n",
       "    }\n",
       "\n",
       "    .dataframe thead th {\n",
       "        text-align: right;\n",
       "    }\n",
       "</style>\n",
       "<table border=\"1\" class=\"dataframe\">\n",
       "  <thead>\n",
       "    <tr style=\"text-align: right;\">\n",
       "      <th></th>\n",
       "      <th>item_id</th>\n",
       "      <th>year_posted</th>\n",
       "      <th>Total_good_reviews</th>\n",
       "      <th>app_name</th>\n",
       "    </tr>\n",
       "  </thead>\n",
       "  <tbody>\n",
       "    <tr>\n",
       "      <th>0</th>\n",
       "      <td>10</td>\n",
       "      <td>2011</td>\n",
       "      <td>1</td>\n",
       "      <td>Counter-Strike</td>\n",
       "    </tr>\n",
       "    <tr>\n",
       "      <th>1</th>\n",
       "      <td>10</td>\n",
       "      <td>2012</td>\n",
       "      <td>3</td>\n",
       "      <td>Counter-Strike</td>\n",
       "    </tr>\n",
       "    <tr>\n",
       "      <th>2</th>\n",
       "      <td>10</td>\n",
       "      <td>2013</td>\n",
       "      <td>6</td>\n",
       "      <td>Counter-Strike</td>\n",
       "    </tr>\n",
       "    <tr>\n",
       "      <th>3</th>\n",
       "      <td>10</td>\n",
       "      <td>2014</td>\n",
       "      <td>26</td>\n",
       "      <td>Counter-Strike</td>\n",
       "    </tr>\n",
       "    <tr>\n",
       "      <th>4</th>\n",
       "      <td>10</td>\n",
       "      <td>2015</td>\n",
       "      <td>15</td>\n",
       "      <td>Counter-Strike</td>\n",
       "    </tr>\n",
       "    <tr>\n",
       "      <th>...</th>\n",
       "      <td>...</td>\n",
       "      <td>...</td>\n",
       "      <td>...</td>\n",
       "      <td>...</td>\n",
       "    </tr>\n",
       "    <tr>\n",
       "      <th>10371</th>\n",
       "      <td>521570</td>\n",
       "      <td>2014</td>\n",
       "      <td>1</td>\n",
       "      <td>You Have 10 Seconds 2</td>\n",
       "    </tr>\n",
       "    <tr>\n",
       "      <th>10372</th>\n",
       "      <td>521990</td>\n",
       "      <td>2014</td>\n",
       "      <td>1</td>\n",
       "      <td>Galactic Storm</td>\n",
       "    </tr>\n",
       "    <tr>\n",
       "      <th>10373</th>\n",
       "      <td>521990</td>\n",
       "      <td>2014</td>\n",
       "      <td>1</td>\n",
       "      <td>Galactic Storm</td>\n",
       "    </tr>\n",
       "    <tr>\n",
       "      <th>10374</th>\n",
       "      <td>527340</td>\n",
       "      <td>2014</td>\n",
       "      <td>1</td>\n",
       "      <td>What The Box?</td>\n",
       "    </tr>\n",
       "    <tr>\n",
       "      <th>10375</th>\n",
       "      <td>527340</td>\n",
       "      <td>2014</td>\n",
       "      <td>1</td>\n",
       "      <td>What The Box?</td>\n",
       "    </tr>\n",
       "  </tbody>\n",
       "</table>\n",
       "<p>10376 rows × 4 columns</p>\n",
       "</div>"
      ],
      "text/plain": [
       "       item_id  year_posted  Total_good_reviews               app_name\n",
       "0           10         2011                   1         Counter-Strike\n",
       "1           10         2012                   3         Counter-Strike\n",
       "2           10         2013                   6         Counter-Strike\n",
       "3           10         2014                  26         Counter-Strike\n",
       "4           10         2015                  15         Counter-Strike\n",
       "...        ...          ...                 ...                    ...\n",
       "10371   521570         2014                   1  You Have 10 Seconds 2\n",
       "10372   521990         2014                   1         Galactic Storm\n",
       "10373   521990         2014                   1         Galactic Storm\n",
       "10374   527340         2014                   1          What The Box?\n",
       "10375   527340         2014                   1          What The Box?\n",
       "\n",
       "[10376 rows x 4 columns]"
      ]
     },
     "execution_count": 5,
     "metadata": {},
     "output_type": "execute_result"
    }
   ],
   "source": [
    "mascara = (reviews['recommend'] == 1) & ((reviews['score'] == 1) | (reviews['score'] == 2))\n",
    "best_reviews = reviews[mascara]\n",
    "\n",
    "df_best_reviews_count = best_reviews.groupby(['item_id', 'year_posted']).size().reset_index(name='Total_good_reviews')         # Obtenemos el conteo de malas reseñas por 'item_id' y 'year_posted'\n",
    "\n",
    "df_best_reviews_2 = pd.merge(df_best_reviews_count,games)                                                                      # Unimos el dataframe creado, con el de games para obtener el título de los videojuegos\n",
    "eliminar = ['genres','released_year','developer']                                                                              # Para este endpoint no son necesarias estas columnas\n",
    "df_UsersRecommend = df_best_reviews_2.drop(columns=eliminar)                                                                   # Por lo que las eliminamos\n",
    "df_UsersRecommend"
   ]
  },
  {
   "cell_type": "markdown",
   "metadata": {},
   "source": [
    "Guardamos el dataframe en un archivo parquet"
   ]
  },
  {
   "cell_type": "code",
   "execution_count": 24,
   "metadata": {},
   "outputs": [],
   "source": [
    "df_UsersRecommend.to_parquet('datos_parquet/df_UsersRecommend.parquet')"
   ]
  },
  {
   "cell_type": "markdown",
   "metadata": {},
   "source": [
    "##### Función"
   ]
  },
  {
   "cell_type": "markdown",
   "metadata": {},
   "source": [
    "Hacemos la funcion UsersRecommend"
   ]
  },
  {
   "cell_type": "code",
   "execution_count": 6,
   "metadata": {},
   "outputs": [],
   "source": [
    "def UsersRecommend(df_best_reviews_2,anio:int):\n",
    "\n",
    "    mascara = (df_best_reviews_2['year_posted'] == anio)   \n",
    "    df_best_reviews_3 = df_best_reviews_2[mascara]\n",
    "    name_counts = df_best_reviews_3['app_name'].value_counts().head(3)\n",
    " \n",
    "    resultados = []\n",
    "    for puesto, (name, count) in enumerate(name_counts.items(), start=1):                            # Crear una lista de diccionarios con el formato solicitado\n",
    "        resultados.append({f\"Puesto {puesto}\": name})\n",
    "\n",
    "    return resultados"
   ]
  },
  {
   "cell_type": "markdown",
   "metadata": {},
   "source": [
    "Probamos la función"
   ]
  },
  {
   "cell_type": "code",
   "execution_count": 7,
   "metadata": {},
   "outputs": [
    {
     "name": "stdout",
     "output_type": "stream",
     "text": [
      "[{'Puesto 1': 'Miscreated'}, {'Puesto 2': 'Deepworld'}, {'Puesto 3': 'Naval Action'}]\n"
     ]
    }
   ],
   "source": [
    "resultado_bestrev = UsersRecommend(df_UsersRecommend,2014)\n",
    "print(resultado_bestrev)"
   ]
  },
  {
   "cell_type": "markdown",
   "metadata": {},
   "source": [
    " <h2 align=center> ______________________________________________________________________<h2>"
   ]
  },
  {
   "cell_type": "markdown",
   "metadata": {},
   "source": [
    "#### UsersWorstDeveloper. Preparamos el dataframe para la funcion "
   ]
  },
  {
   "cell_type": "markdown",
   "metadata": {},
   "source": [
    "##### Procesamiento"
   ]
  },
  {
   "cell_type": "code",
   "execution_count": 8,
   "metadata": {},
   "outputs": [
    {
     "data": {
      "text/html": [
       "<div>\n",
       "<style scoped>\n",
       "    .dataframe tbody tr th:only-of-type {\n",
       "        vertical-align: middle;\n",
       "    }\n",
       "\n",
       "    .dataframe tbody tr th {\n",
       "        vertical-align: top;\n",
       "    }\n",
       "\n",
       "    .dataframe thead th {\n",
       "        text-align: right;\n",
       "    }\n",
       "</style>\n",
       "<table border=\"1\" class=\"dataframe\">\n",
       "  <thead>\n",
       "    <tr style=\"text-align: right;\">\n",
       "      <th></th>\n",
       "      <th>item_id</th>\n",
       "      <th>year_posted</th>\n",
       "      <th>Total_bad_reviews</th>\n",
       "      <th>developer</th>\n",
       "    </tr>\n",
       "  </thead>\n",
       "  <tbody>\n",
       "    <tr>\n",
       "      <th>0</th>\n",
       "      <td>20</td>\n",
       "      <td>2014</td>\n",
       "      <td>1</td>\n",
       "      <td>Valve</td>\n",
       "    </tr>\n",
       "    <tr>\n",
       "      <th>1</th>\n",
       "      <td>80</td>\n",
       "      <td>2014</td>\n",
       "      <td>1</td>\n",
       "      <td>Valve</td>\n",
       "    </tr>\n",
       "    <tr>\n",
       "      <th>2</th>\n",
       "      <td>220</td>\n",
       "      <td>2014</td>\n",
       "      <td>1</td>\n",
       "      <td>Valve</td>\n",
       "    </tr>\n",
       "    <tr>\n",
       "      <th>3</th>\n",
       "      <td>240</td>\n",
       "      <td>2013</td>\n",
       "      <td>1</td>\n",
       "      <td>Valve</td>\n",
       "    </tr>\n",
       "    <tr>\n",
       "      <th>4</th>\n",
       "      <td>360</td>\n",
       "      <td>2014</td>\n",
       "      <td>1</td>\n",
       "      <td>Valve</td>\n",
       "    </tr>\n",
       "    <tr>\n",
       "      <th>...</th>\n",
       "      <td>...</td>\n",
       "      <td>...</td>\n",
       "      <td>...</td>\n",
       "      <td>...</td>\n",
       "    </tr>\n",
       "    <tr>\n",
       "      <th>1950</th>\n",
       "      <td>506140</td>\n",
       "      <td>2014</td>\n",
       "      <td>1</td>\n",
       "      <td>Cloudcade, Inc.</td>\n",
       "    </tr>\n",
       "    <tr>\n",
       "      <th>1951</th>\n",
       "      <td>506140</td>\n",
       "      <td>2014</td>\n",
       "      <td>1</td>\n",
       "      <td>Cloudcade, Inc.</td>\n",
       "    </tr>\n",
       "    <tr>\n",
       "      <th>1952</th>\n",
       "      <td>506140</td>\n",
       "      <td>2014</td>\n",
       "      <td>1</td>\n",
       "      <td>Cloudcade, Inc.</td>\n",
       "    </tr>\n",
       "    <tr>\n",
       "      <th>1953</th>\n",
       "      <td>506140</td>\n",
       "      <td>2014</td>\n",
       "      <td>1</td>\n",
       "      <td>Cloudcade, Inc.</td>\n",
       "    </tr>\n",
       "    <tr>\n",
       "      <th>1954</th>\n",
       "      <td>512340</td>\n",
       "      <td>2014</td>\n",
       "      <td>1</td>\n",
       "      <td>Ubisoft Montreal</td>\n",
       "    </tr>\n",
       "  </tbody>\n",
       "</table>\n",
       "<p>1955 rows × 4 columns</p>\n",
       "</div>"
      ],
      "text/plain": [
       "      item_id  year_posted  Total_bad_reviews         developer\n",
       "0          20         2014                  1             Valve\n",
       "1          80         2014                  1             Valve\n",
       "2         220         2014                  1             Valve\n",
       "3         240         2013                  1             Valve\n",
       "4         360         2014                  1             Valve\n",
       "...       ...          ...                ...               ...\n",
       "1950   506140         2014                  1   Cloudcade, Inc.\n",
       "1951   506140         2014                  1   Cloudcade, Inc.\n",
       "1952   506140         2014                  1   Cloudcade, Inc.\n",
       "1953   506140         2014                  1   Cloudcade, Inc.\n",
       "1954   512340         2014                  1  Ubisoft Montreal\n",
       "\n",
       "[1955 rows x 4 columns]"
      ]
     },
     "execution_count": 8,
     "metadata": {},
     "output_type": "execute_result"
    }
   ],
   "source": [
    "mascara = (reviews['score'] == 0) & (reviews['recommend'] == 0)                                                                 # Para ser considerado malo, debe tener recommend = o y score = 0\n",
    "worst_reviews = reviews[mascara]                                                                                                # Filtramos el df con estas condiciones\n",
    "\n",
    "df_worst_reviews_count = worst_reviews.groupby(['item_id', 'year_posted']).size().reset_index(name='Total_bad_reviews')         # Obtenemos el conteo de malas reseñas por 'item_id' y 'year_posted'\n",
    "\n",
    "df_worst_reviews_2 = pd.merge(df_worst_reviews_count,games)\n",
    "eliminar = ['genres','released_year','app_name']                                                                                # Para este endpoint no son necesarias estas columnas\n",
    "df_worst_reviews_2 = df_worst_reviews_2.drop(columns=eliminar)                                                                  # Por lo que las eliminamos\n",
    "df_worst_reviews_2"
   ]
  },
  {
   "cell_type": "code",
   "execution_count": 28,
   "metadata": {},
   "outputs": [],
   "source": [
    "df_worst_reviews_2.to_parquet('datos_parquet/df_UsersWorstDeveloper.parquet')"
   ]
  },
  {
   "cell_type": "markdown",
   "metadata": {},
   "source": [
    "##### Función"
   ]
  },
  {
   "cell_type": "markdown",
   "metadata": {},
   "source": [
    "Hacemos la funcion UsersWorstDeveloper"
   ]
  },
  {
   "cell_type": "code",
   "execution_count": 29,
   "metadata": {},
   "outputs": [],
   "source": [
    "def UsersWorstDeveloper(df_worst_reviews_2,anio:int):\n",
    "\n",
    "    mascara = (df_worst_reviews_2['year_posted'] == anio)   \n",
    "    df_worst_reviews_3 = df_worst_reviews_2[mascara]\n",
    "    developer_counts = df_worst_reviews_3['developer'].value_counts().head(3)\n",
    " \n",
    "    resultados = []\n",
    "    for puesto, (developer, count) in enumerate(developer_counts.items(), start=1):                            # Crear una lista de diccionarios con el formato solicitado\n",
    "        resultados.append({f\"Puesto {puesto}\": developer})\n",
    "\n",
    "    return resultados"
   ]
  },
  {
   "cell_type": "markdown",
   "metadata": {},
   "source": [
    "Lo probamos"
   ]
  },
  {
   "cell_type": "code",
   "execution_count": 30,
   "metadata": {},
   "outputs": [
    {
     "name": "stdout",
     "output_type": "stream",
     "text": [
      "[{'Puesto 1': 'ProjectorGames'}, {'Puesto 2': 'The Behemoth'}, {'Puesto 3': 'Daybreak Game Company'}]\n"
     ]
    }
   ],
   "source": [
    "resultado_final = UsersWorstDeveloper(df_worst_reviews_2,2015)\n",
    "print(resultado_final)"
   ]
  },
  {
   "cell_type": "markdown",
   "metadata": {},
   "source": [
    " <h2 align=center> ______________________________________________________________________<h2>"
   ]
  },
  {
   "cell_type": "markdown",
   "metadata": {},
   "source": [
    "#### Sentiment Analysis. Preparamos el dataframe para la función"
   ]
  },
  {
   "cell_type": "markdown",
   "metadata": {},
   "source": [
    "##### Procesamiento"
   ]
  },
  {
   "cell_type": "code",
   "execution_count": 9,
   "metadata": {},
   "outputs": [
    {
     "data": {
      "text/html": [
       "<div>\n",
       "<style scoped>\n",
       "    .dataframe tbody tr th:only-of-type {\n",
       "        vertical-align: middle;\n",
       "    }\n",
       "\n",
       "    .dataframe tbody tr th {\n",
       "        vertical-align: top;\n",
       "    }\n",
       "\n",
       "    .dataframe thead th {\n",
       "        text-align: right;\n",
       "    }\n",
       "</style>\n",
       "<table border=\"1\" class=\"dataframe\">\n",
       "  <thead>\n",
       "    <tr style=\"text-align: right;\">\n",
       "      <th></th>\n",
       "      <th>developer</th>\n",
       "      <th>score</th>\n",
       "    </tr>\n",
       "  </thead>\n",
       "  <tbody>\n",
       "    <tr>\n",
       "      <th>0</th>\n",
       "      <td>Stainless Games Ltd</td>\n",
       "      <td>2</td>\n",
       "    </tr>\n",
       "    <tr>\n",
       "      <th>1</th>\n",
       "      <td>Stainless Games Ltd</td>\n",
       "      <td>2</td>\n",
       "    </tr>\n",
       "    <tr>\n",
       "      <th>2</th>\n",
       "      <td>Stainless Games Ltd</td>\n",
       "      <td>2</td>\n",
       "    </tr>\n",
       "    <tr>\n",
       "      <th>3</th>\n",
       "      <td>Valve</td>\n",
       "      <td>0</td>\n",
       "    </tr>\n",
       "    <tr>\n",
       "      <th>4</th>\n",
       "      <td>Valve</td>\n",
       "      <td>2</td>\n",
       "    </tr>\n",
       "  </tbody>\n",
       "</table>\n",
       "</div>"
      ],
      "text/plain": [
       "             developer  score\n",
       "0  Stainless Games Ltd      2\n",
       "1  Stainless Games Ltd      2\n",
       "2  Stainless Games Ltd      2\n",
       "3                Valve      0\n",
       "4                Valve      2"
      ]
     },
     "execution_count": 9,
     "metadata": {},
     "output_type": "execute_result"
    }
   ],
   "source": [
    "df_Sentiment_An = pd.merge(games[['item_id','developer']], reviews[['item_id','score']], on ='item_id', how = 'inner')                          # Unimos el df de games (solo la columna developer) con el df reviews (solo la columna score)\n",
    "df_Sentiment_An.drop(columns=['item_id'], inplace=True)                                                                                         # No necesitamos la columna item_id para esta consulta\n",
    "df_Sentiment_An.head()"
   ]
  },
  {
   "cell_type": "markdown",
   "metadata": {},
   "source": [
    "Guardamos el dataframe en un archivo parquet para su posterior analisis"
   ]
  },
  {
   "cell_type": "code",
   "execution_count": 10,
   "metadata": {},
   "outputs": [],
   "source": [
    "df_Sentiment_An.to_parquet('datos_parquet/df_SentimentAnalysis.parquet')"
   ]
  },
  {
   "cell_type": "markdown",
   "metadata": {},
   "source": [
    "##### Función"
   ]
  },
  {
   "cell_type": "code",
   "execution_count": 33,
   "metadata": {},
   "outputs": [
    {
     "data": {
      "text/plain": [
       "{'Stainless Games Ltd:[Negative = 0, Neutral = 0, Positive = 10]'}"
      ]
     },
     "execution_count": 33,
     "metadata": {},
     "output_type": "execute_result"
    }
   ],
   "source": [
    "def SentimentAnalysis(df, developer:str):\n",
    "    \n",
    "    mascara = (df['developer'] == developer)\n",
    "    df1 = df[mascara]\n",
    "\n",
    "    pos = df1[df1['score'] == 2]['score'].sum()\n",
    "    neu = df1[df1['score'] == 1]['score'].sum()\n",
    "    neg = df1[df1['score'] == 0]['score'].sum()\n",
    "\n",
    "    final = {f'{developer}:[Negative = {neg}, Neutral = {neu}, Positive = {pos}]'}\n",
    "\n",
    "    return final\n",
    "\n",
    "prueba = SentimentAnalysis(df_Sentiment_An,'Stainless Games Ltd')\n",
    "prueba"
   ]
  },
  {
   "cell_type": "markdown",
   "metadata": {},
   "source": [
    "Este es el fin de esta parte del proceso, porfavor da click [aqui](04_SistemaDeRecomendacion.ipynb) para continuar."
   ]
  }
 ],
 "metadata": {
  "kernelspec": {
   "display_name": "Python 3",
   "language": "python",
   "name": "python3"
  },
  "language_info": {
   "codemirror_mode": {
    "name": "ipython",
    "version": 3
   },
   "file_extension": ".py",
   "mimetype": "text/x-python",
   "name": "python",
   "nbconvert_exporter": "python",
   "pygments_lexer": "ipython3",
   "version": "3.12.0"
  }
 },
 "nbformat": 4,
 "nbformat_minor": 2
}
